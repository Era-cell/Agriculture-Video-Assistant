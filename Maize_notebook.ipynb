{
 "cells": [
  {
   "cell_type": "code",
   "execution_count": 6,
   "id": "1e4d5761-de2c-46b9-a069-fed73c6a27fa",
   "metadata": {},
   "outputs": [
    {
     "data": {
      "text/plain": [
       "'2.15.0'"
      ]
     },
     "execution_count": 6,
     "metadata": {},
     "output_type": "execute_result"
    }
   ],
   "source": [
    "import keras\n",
    "keras.__version__"
   ]
  },
  {
   "cell_type": "code",
   "execution_count": 7,
   "id": "f4c2b6fc-4b1d-46c8-aa7e-33361a900ec8",
   "metadata": {},
   "outputs": [],
   "source": [
    "import os\n",
    "\n",
    "import shutil"
   ]
  },
  {
   "cell_type": "code",
   "execution_count": 8,
   "id": "3ce768a0-4629-482d-933b-2f8b51e98f8b",
   "metadata": {},
   "outputs": [],
   "source": [
    "# Training images \n",
    "train_deficiency =('/Maize_DATA/Ndeficient/train/deficiency')\n",
    "train_controlN = ('/Maize_DATA/Ndeficient/train/control')\n",
    "\n",
    "train_diseased = ('/Maize_DATA/WheatLeafRust/train/diseased')\n",
    "train_controlR = ('/Maize_DATA/WheatLeafRust/train/control')\n",
    "\n",
    "# Testing images\n",
    "test_deficiency = ('/Maize_DATA/Ndeficient/test/deficiency')\n",
    "test_controlN = ('/Maize_DATA/Ndeficient/test/control')\n",
    "\n",
    "test_diseased = ('/Maize_DATA/WheatLeafRust/test/diseased')\n",
    "test_controlR = ('/Maize_DATA/WheatLeafRust/test/control')\n",
    "\n",
    "# Validation images\n",
    "val_deficiency = ('/Maize_DATA/Ndeficient/val/deficiency')\n",
    "val_controlN = ('/Maize_DATA/Ndeficient/val/control')\n",
    "\n",
    "val_diseased = ('/Maize_DATA/WheatLeafRust/val/diseased')\n",
    "val_controlR = ('/Maize_DATA/WheatLeafRust/val/control')\n"
   ]
  },
  {
   "cell_type": "code",
   "execution_count": 9,
   "id": "a828acbe-11bf-42ee-95ed-15baab18e9d9",
   "metadata": {},
   "outputs": [],
   "source": [
    "# Creating a directory to work out of\n",
    "cwd = os.getcwd()\n",
    "NN_dir = '/Maize_DATA/NN1_dir'\n",
    "os.mkdir(NN_dir)"
   ]
  },
  {
   "cell_type": "code",
   "execution_count": 10,
   "id": "a5b55a55-8644-4af6-8506-dc33749182ba",
   "metadata": {},
   "outputs": [],
   "source": [
    "#  The training, validation and tests directories\n",
    "train_dir = os.path.join(NN_dir, 'train')\n",
    "os.mkdir(train_dir)\n",
    "\n",
    "val_dir = os.path.join(NN_dir, 'val')\n",
    "os.mkdir(val_dir)\n",
    "\n",
    "test_dir = os.path.join(NN_dir, 'test')\n",
    "os.mkdir(test_dir)"
   ]
  },
  {
   "cell_type": "code",
   "execution_count": 11,
   "id": "6c006c4d-c85b-479f-8713-ceea2609f49f",
   "metadata": {},
   "outputs": [],
   "source": [
    "\n",
    "# The nitrogen deficent, leaf rust and control directories \n",
    "# Training directory\n",
    "train_ndef_dir = os.path.join(train_dir, 'ndef')\n",
    "os.mkdir(train_ndef_dir)\n",
    "\n",
    "train_rust_dir = os.path.join(train_dir, 'rust')\n",
    "os.mkdir(train_rust_dir)\n",
    "\n",
    "train_control_dir = os.path.join(train_dir, 'control')\n",
    "os.mkdir(train_control_dir)\n",
    "\n",
    "# Test directories\n",
    "test_ndef_dir = os.path.join(test_dir, 'ndef')\n",
    "os.mkdir(test_ndef_dir)\n",
    "\n",
    "test_rust_dir = os.path.join(test_dir, 'rust')\n",
    "os.mkdir(test_rust_dir)\n",
    "\n",
    "test_control_dir = os.path.join(test_dir, 'control')\n",
    "os.mkdir(test_control_dir)\n",
    "\n",
    "# Validation directories\n",
    "val_ndef_dir = os.path.join(val_dir, 'ndef')\n",
    "os.mkdir(val_ndef_dir)\n",
    "\n",
    "val_rust_dir = os.path.join(val_dir, 'rust')\n",
    "os.mkdir(val_rust_dir)\n",
    "\n",
    "val_control_dir = os.path.join(val_dir, 'control')\n",
    "os.mkdir(val_control_dir)"
   ]
  },
  {
   "cell_type": "code",
   "execution_count": 12,
   "id": "e4ee8da1-51d7-4b32-9ef6-ddc11380736f",
   "metadata": {},
   "outputs": [
    {
     "ename": "FileNotFoundError",
     "evalue": "[Errno 2] No such file or directory: '/Maize_DATA/WheatLeafRust/train/diseased\\\\227.jpg'",
     "output_type": "error",
     "traceback": [
      "\u001b[1;31m---------------------------------------------------------------------------\u001b[0m",
      "\u001b[1;31mFileNotFoundError\u001b[0m                         Traceback (most recent call last)",
      "Cell \u001b[1;32mIn[12], line 20\u001b[0m\n\u001b[0;32m     18\u001b[0m   src \u001b[38;5;241m=\u001b[39m os\u001b[38;5;241m.\u001b[39mpath\u001b[38;5;241m.\u001b[39mjoin(train_diseased, fname)\n\u001b[0;32m     19\u001b[0m   dst \u001b[38;5;241m=\u001b[39m os\u001b[38;5;241m.\u001b[39mpath\u001b[38;5;241m.\u001b[39mjoin(train_rust_dir, fname)\n\u001b[1;32m---> 20\u001b[0m   \u001b[43mshutil\u001b[49m\u001b[38;5;241;43m.\u001b[39;49m\u001b[43mcopy\u001b[49m\u001b[43m(\u001b[49m\u001b[43msrc\u001b[49m\u001b[43m,\u001b[49m\u001b[43m \u001b[49m\u001b[43mdst\u001b[49m\u001b[43m)\u001b[49m\n\u001b[0;32m     22\u001b[0m \u001b[38;5;66;03m# Renameing the images in the control directory to make room for the additional control images \u001b[39;00m\n\u001b[0;32m     23\u001b[0m \u001b[38;5;28;01mfor\u001b[39;00m i , filename \u001b[38;5;129;01min\u001b[39;00m \u001b[38;5;28menumerate\u001b[39m(os\u001b[38;5;241m.\u001b[39mlistdir(\u001b[38;5;124m\"\u001b[39m\u001b[38;5;124m/Maize_DATA/NN1_dir/train/control\u001b[39m\u001b[38;5;124m\"\u001b[39m)):\n",
      "File \u001b[1;32m~\\AppData\\Local\\Programs\\Python\\Python311\\Lib\\shutil.py:419\u001b[0m, in \u001b[0;36mcopy\u001b[1;34m(src, dst, follow_symlinks)\u001b[0m\n\u001b[0;32m    417\u001b[0m \u001b[38;5;28;01mif\u001b[39;00m os\u001b[38;5;241m.\u001b[39mpath\u001b[38;5;241m.\u001b[39misdir(dst):\n\u001b[0;32m    418\u001b[0m     dst \u001b[38;5;241m=\u001b[39m os\u001b[38;5;241m.\u001b[39mpath\u001b[38;5;241m.\u001b[39mjoin(dst, os\u001b[38;5;241m.\u001b[39mpath\u001b[38;5;241m.\u001b[39mbasename(src))\n\u001b[1;32m--> 419\u001b[0m \u001b[43mcopyfile\u001b[49m\u001b[43m(\u001b[49m\u001b[43msrc\u001b[49m\u001b[43m,\u001b[49m\u001b[43m \u001b[49m\u001b[43mdst\u001b[49m\u001b[43m,\u001b[49m\u001b[43m \u001b[49m\u001b[43mfollow_symlinks\u001b[49m\u001b[38;5;241;43m=\u001b[39;49m\u001b[43mfollow_symlinks\u001b[49m\u001b[43m)\u001b[49m\n\u001b[0;32m    420\u001b[0m copymode(src, dst, follow_symlinks\u001b[38;5;241m=\u001b[39mfollow_symlinks)\n\u001b[0;32m    421\u001b[0m \u001b[38;5;28;01mreturn\u001b[39;00m dst\n",
      "File \u001b[1;32m~\\AppData\\Local\\Programs\\Python\\Python311\\Lib\\shutil.py:256\u001b[0m, in \u001b[0;36mcopyfile\u001b[1;34m(src, dst, follow_symlinks)\u001b[0m\n\u001b[0;32m    254\u001b[0m     os\u001b[38;5;241m.\u001b[39msymlink(os\u001b[38;5;241m.\u001b[39mreadlink(src), dst)\n\u001b[0;32m    255\u001b[0m \u001b[38;5;28;01melse\u001b[39;00m:\n\u001b[1;32m--> 256\u001b[0m     \u001b[38;5;28;01mwith\u001b[39;00m \u001b[38;5;28mopen\u001b[39m(src, \u001b[38;5;124m'\u001b[39m\u001b[38;5;124mrb\u001b[39m\u001b[38;5;124m'\u001b[39m) \u001b[38;5;28;01mas\u001b[39;00m fsrc:\n\u001b[0;32m    257\u001b[0m         \u001b[38;5;28;01mtry\u001b[39;00m:\n\u001b[0;32m    258\u001b[0m             \u001b[38;5;28;01mwith\u001b[39;00m \u001b[38;5;28mopen\u001b[39m(dst, \u001b[38;5;124m'\u001b[39m\u001b[38;5;124mwb\u001b[39m\u001b[38;5;124m'\u001b[39m) \u001b[38;5;28;01mas\u001b[39;00m fdst:\n\u001b[0;32m    259\u001b[0m                 \u001b[38;5;66;03m# macOS\u001b[39;00m\n",
      "\u001b[1;31mFileNotFoundError\u001b[0m: [Errno 2] No such file or directory: '/Maize_DATA/WheatLeafRust/train/diseased\\\\227.jpg'"
     ]
    }
   ],
   "source": [
    "# 1. Copy images into training directory (training)\n",
    "fnames = ['{}.jpg'.format(i) for i in range(209)]\n",
    "for fname in fnames:\n",
    "  src = os.path.join(train_deficiency, fname)\n",
    "  dst = os.path.join(train_ndef_dir, fname)\n",
    "  shutil.copy(src, dst)\n",
    "\n",
    "# 2. Nitrogen deficiency control images (training)\n",
    "fnames = ['{}.jpg'.format(i) for i in range(208)]\n",
    "for fname in fnames:\n",
    "  src = os.path.join(train_controlN, fname)\n",
    "  dst = os.path.join(train_control_dir, fname)\n",
    "  shutil.copy(src, dst)\n",
    "\n",
    "# 3. Leaf rust diseased images (training)\n",
    "fnames = ['{}.jpg'.format(i) for i in range(258)]\n",
    "for fname in fnames:\n",
    "  src = os.path.join(train_diseased, fname)\n",
    "  dst = os.path.join(train_rust_dir, fname)\n",
    "  shutil.copy(src, dst)\n",
    "\n",
    "# Renameing the images in the control directory to make room for the additional control images \n",
    "for i , filename in enumerate(os.listdir(\"/Maize_DATA/NN1_dir/train/control\")):\n",
    "    os.rename(train_control_dir + \"/\" + str(i) + \".jpg\", train_control_dir + \"/\" + str(i + 258) + \".jpg\")\n",
    "    \n",
    "# 4. Leaf rust control images (training) \n",
    "fnames = ['{}.jpg'.format(i) for i in range(258)]\n",
    "for fname in fnames:\n",
    "  src = os.path.join(train_controlR, fname)\n",
    "  dst = os.path.join(train_control_dir, fname)\n",
    "  shutil.copy(src, dst)\n",
    "\n",
    "# 5. Nitrogen deficiency test images \n",
    "fnames = ['{}.jpg'.format(i) for i in range(44)]\n",
    "for fname in fnames:\n",
    "  src = os.path.join(test_deficiency, fname)\n",
    "  dst = os.path.join(test_ndef_dir, fname)\n",
    "  shutil.copy(src, dst)\n",
    "\n",
    "# 6. Nitrogen deficency test control\n",
    "fnames = ['{}.jpg'.format(i) for i in range(44)]\n",
    "for fname in fnames:\n",
    "  src = os.path.join(test_controlN, fname)\n",
    "  dst = os.path.join(test_control_dir, fname)\n",
    "  shutil.copy(src, dst)\n",
    "\n",
    "# 7. Leaf rust test images \n",
    "fnames = ['{}.jpg'.format(i) for i in range(54)]\n",
    "for fname in fnames:\n",
    "  src = os.path.join(test_diseased, fname)\n",
    "  dst = os.path.join(test_rust_dir, fname)\n",
    "  shutil.copy(src, dst)\n",
    "\n",
    "# Renameing the images in the control directory to make room for the additional control images \n",
    "for i , filename in enumerate(os.listdir(\"/Maize_DATA/NN1_dir/test/control\")):\n",
    "    os.rename(test_control_dir + \"/\" + str(i) + \".jpg\", test_control_dir + \"/\" + str(i + 73) + \".jpg\")\n",
    "    break\n",
    "\n",
    "# 8. Leaf rust test control\n",
    "fnames = ['{}.jpg'.format(i) for i in range(73)]\n",
    "for fname in fnames:\n",
    "  src = os.path.join(test_controlR, fname)\n",
    "  dst = os.path.join(test_control_dir, fname)\n",
    "  shutil.copy(src, dst)\n",
    "\n",
    "# 9. Nitrogen deficiency val \n",
    "fnames = ['{}.jpg'.format(i) for i in range(44)]\n",
    "for fname in fnames:\n",
    "  src = os.path.join(val_deficiency, fname)\n",
    "  dst = os.path.join(val_ndef_dir, fname)\n",
    "  shutil.copy(src, dst)\n",
    "\n",
    "# 10. Nitrogen deficency val control\n",
    "fnames = ['{}.jpg'.format(i) for i in range(44)]\n",
    "for fname in fnames:\n",
    "  src = os.path.join(val_controlN, fname)\n",
    "  dst = os.path.join(val_control_dir, fname)\n",
    "  shutil.copy(src, dst)\n",
    "\n",
    "# 11. Leaf rust val\n",
    "fnames = ['{}.jpg'.format(i) for i in range(54)]\n",
    "for fname in fnames:\n",
    "  src = os.path.join(val_diseased, fname)\n",
    "  dst = os.path.join(val_rust_dir, fname)\n",
    "  shutil.copy(src, dst)\n",
    "\n",
    "# Renameing the images in the control directory to make room for the additional control images \n",
    "for i , filename in enumerate(os.listdir(\"/Maize_DATA/NN1_dir/val/control\")):\n",
    "    os.rename(val_control_dir + \"/\" + str(i) + \".jpg\", val_control_dir + \"/\" + str(i + 73) + \".jpg\")\n",
    "    break\n",
    "\n",
    "# 12. Leaf rust val control\n",
    "fnames = ['{}.jpg'.format(i) for i in range(73)]\n",
    "for fname in fnames:\n",
    "  src = os.path.join(val_controlR, fname)\n",
    "  dst = os.path.join(val_control_dir, fname)\n",
    "  shutil.copy(src, dst)"
   ]
  },
  {
   "cell_type": "code",
   "execution_count": null,
   "id": "9a1aee88-00c7-4596-ad08-a276330cb571",
   "metadata": {},
   "outputs": [],
   "source": [
    "print('total nitrogen deficeicent training images', len(os.listdir(train_ndef_dir)))\n",
    "print('total rust infected training images', len(os.listdir(train_rust_dir)))\n",
    "print('total nitrogen deficeicent control images', len(os.listdir(train_control_dir)))\n",
    "     "
   ]
  },
  {
   "cell_type": "code",
   "execution_count": null,
   "id": "91b2d189-d173-4418-aad7-7ef86a834102",
   "metadata": {},
   "outputs": [],
   "source": [
    "# NEural Network"
   ]
  },
  {
   "cell_type": "code",
   "execution_count": null,
   "id": "0259047b-4cc1-435a-9e97-655012b8eaee",
   "metadata": {},
   "outputs": [],
   "source": [
    "\n",
    "from keras import layers\n",
    "from keras import models\n",
    "\n",
    "\n",
    "model = models.Sequential()\n",
    "model.add(layers.Conv2D(32, (3, 3), activation='relu', input_shape=(150, 150, 3)))\n",
    "model.add(layers.MaxPooling2D((2, 2)))\n",
    "model.add(layers.Conv2D(64, (3, 3), activation='relu'))\n",
    "model.add(layers.Conv2D(64, (3, 3), activation='relu'))\n",
    "model.add(layers.MaxPooling2D((2, 2)))\n",
    "model.add(layers.Conv2D(128, (3, 3), activation='relu'))\n",
    "model.add(layers.Conv2D(128, (3, 3), activation='relu'))\n",
    "model.add(layers.MaxPooling2D((2, 2)))\n",
    "model.add(layers.Conv2D(256, (3, 3), activation='relu'))\n",
    "model.add(layers.Conv2D(256, (3, 3), activation='relu'))\n",
    "model.add(layers.MaxPooling2D((2, 2)))\n",
    "model.add(layers.Flatten())\n",
    "model.add(layers.Dense(512, activation='relu'))\n",
    "model.add(layers.Dense(3, activation='softmax'))"
   ]
  },
  {
   "cell_type": "code",
   "execution_count": null,
   "id": "60659697-50f5-41cd-87b2-cd6906b5a2ed",
   "metadata": {},
   "outputs": [],
   "source": [
    "model.summary()"
   ]
  },
  {
   "cell_type": "code",
   "execution_count": null,
   "id": "3ba239f9-68c6-444e-a7d2-2c26790a7827",
   "metadata": {},
   "outputs": [],
   "source": [
    "\n",
    "from keras import optimizers\n",
    "\n",
    "model.compile(optimizer='rmsprop',\n",
    "              loss='categorical_crossentropy',\n",
    "              metrics=['accuracy'])"
   ]
  },
  {
   "cell_type": "code",
   "execution_count": null,
   "id": "d1958713-d96e-4721-9f3d-785ef1380206",
   "metadata": {},
   "outputs": [],
   "source": [
    "from keras.preprocessing.image import ImageDataGenerator\n",
    "\n",
    "# All images will be rescaled by 1./255 but the training images will also be augmented through rotation, changing height and width zooming and through flipping.\n",
    "train_datagen = ImageDataGenerator(rescale=1./255, rotation_range=40,\n",
    "                                   width_shift_range=0.2,\n",
    "                                   height_shift_range=0.2,\n",
    "                                   shear_range=0.2,\n",
    "                                   zoom_range=0.2,\n",
    "                                   horizontal_flip=True,\n",
    "                                   fill_mode='nearest')\n",
    "# The test images are left alone\n",
    "test_datagen = ImageDataGenerator(rescale=1./255)\n",
    "\n",
    "train_generator = train_datagen.flow_from_directory(\n",
    "        # This is the target directory\n",
    "        train_dir,\n",
    "        # All images will be resized to 150x150\n",
    "        target_size=(150, 150),\n",
    "        batch_size=20,\n",
    "        # Since we use categorical_crossentropy loss, we need classification labels\n",
    "        class_mode='categorical')\n",
    "\n",
    "# The same process for the validation set \n",
    "validation_generator = test_datagen.flow_from_directory(\n",
    "        val_dir,\n",
    "        target_size=(150, 150),\n",
    "        batch_size=20,\n",
    "        class_mode='categorical')\n",
    "     "
   ]
  },
  {
   "cell_type": "code",
   "execution_count": null,
   "id": "21a6b764-c528-46df-9d59-7d9a785ac2c1",
   "metadata": {},
   "outputs": [],
   "source": [
    "#Takes the samples of size 20 (batch size) iterativly for the model, the generator will do this endlessly therefor a 'break' is required to stop it. \n",
    "for data_batch, labels_batch in train_generator:\n",
    "    print('data batch shape:', data_batch.shape)\n",
    "    print('labels batch shape:', labels_batch.shape)\n",
    "    break\n",
    "     "
   ]
  },
  {
   "cell_type": "code",
   "execution_count": null,
   "id": "ad219bfa-f233-4238-81a4-d5a0bbaf8f7b",
   "metadata": {},
   "outputs": [],
   "source": [
    "history = model.fit( train_generator,\n",
    "                    steps_per_epoch=36, \n",
    "                    epochs = 25,\n",
    "                    validation_data=validation_generator, \n",
    "                    validation_steps=2)"
   ]
  },
  {
   "cell_type": "code",
   "execution_count": null,
   "id": "75d26637-f7cc-42f6-b0e2-f2a9294073a5",
   "metadata": {},
   "outputs": [],
   "source": [
    "model.save('Rust_identifier_1')"
   ]
  },
  {
   "cell_type": "code",
   "execution_count": null,
   "id": "e73fd60f-5984-44be-a7bb-631da3ed1016",
   "metadata": {},
   "outputs": [],
   "source": [
    "import matplotlib.pyplot as plt\n",
    "\n",
    "acc = history.history['accuracy']\n",
    "val_acc = history.history['val_accuracy']\n",
    "loss = history.history['loss']\n",
    "val_loss = history.history['val_loss']\n",
    "\n",
    "epochs = range(len(acc))\n",
    "\n",
    "plt.plot(epochs, acc, 'bo', label='Training acc')\n",
    "plt.plot(epochs, val_acc, 'b', label='Validation acc')\n",
    "plt.title('Training and validation accuracy')\n",
    "plt.legend()\n",
    "\n",
    "plt.figure()\n",
    "\n",
    "plt.plot(epochs, loss, 'bo', label='Training loss')\n",
    "plt.plot(epochs, val_loss, 'b', label='Validation loss')\n",
    "plt.title('Training and validation loss')\n",
    "plt.legend()\n",
    "\n",
    "plt.show()\n",
    "     "
   ]
  },
  {
   "cell_type": "code",
   "execution_count": null,
   "id": "1e657941-948d-4e8f-83ea-18d12c211f83",
   "metadata": {},
   "outputs": [],
   "source": [
    "# The test images are left alone\n",
    "test_datagen = ImageDataGenerator(rescale=1./255)\n",
    "\n",
    "\n",
    "test_generator = test_datagen.flow_from_directory(\n",
    "        # This is the target directory\n",
    "        test_dir,\n",
    "        # All images will be resized to 150x150\n",
    "        target_size=(150, 150),\n",
    "        batch_size=20,\n",
    "        # Since we use categorical_crossentropy loss, we need classification labels\n",
    "        class_mode='categorical')\n",
    "\n",
    "test_generator = test_datagen.flow_from_directory(\n",
    "        test_dir,\n",
    "        target_size=(150, 150),\n",
    "        batch_size=10,\n",
    "        class_mode='categorical')"
   ]
  },
  {
   "cell_type": "code",
   "execution_count": null,
   "id": "b625e443-25b4-49ab-af60-ba459b4ae69b",
   "metadata": {},
   "outputs": [],
   "source": [
    "for data_batch, labels_batch in test_generator:\n",
    "    print('data batch shape:', data_batch.shape)\n",
    "    print('labels batch shape:', labels_batch.shape)\n",
    "    break\n",
    "     "
   ]
  },
  {
   "cell_type": "code",
   "execution_count": null,
   "id": "58db2b5c-0682-4f48-9c84-037279292cc2",
   "metadata": {},
   "outputs": [],
   "source": [
    "test_loss, test_acc = model.evaluate(test_generator, steps=17)\n",
    "test_acc= (round(test_acc, 5)) * 100\n",
    "print('test acc:', test_acc,'%')"
   ]
  }
 ],
 "metadata": {
  "kernelspec": {
   "display_name": "Python 3 (ipykernel)",
   "language": "python",
   "name": "python3"
  },
  "language_info": {
   "codemirror_mode": {
    "name": "ipython",
    "version": 3
   },
   "file_extension": ".py",
   "mimetype": "text/x-python",
   "name": "python",
   "nbconvert_exporter": "python",
   "pygments_lexer": "ipython3",
   "version": "3.11.0"
  }
 },
 "nbformat": 4,
 "nbformat_minor": 5
}
